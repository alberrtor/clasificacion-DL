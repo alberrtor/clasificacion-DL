{
 "cells": [
  {
   "cell_type": "code",
   "execution_count": 1,
   "id": "fc6b3b85-d0e4-4e83-ad19-b5f04c06c605",
   "metadata": {},
   "outputs": [
    {
     "name": "stderr",
     "output_type": "stream",
     "text": [
      "WARNING:absl:Compiled the loaded model, but the compiled metrics have yet to be built. `model.compile_metrics` will be empty until you train or evaluate the model.\n"
     ]
    },
    {
     "name": "stdout",
     "output_type": "stream",
     "text": [
      "\u001b[1m1/1\u001b[0m \u001b[32m━━━━━━━━━━━━━━━━━━━━\u001b[0m\u001b[37m\u001b[0m \u001b[1m0s\u001b[0m 32ms/step\n",
      "La imagen se clasifica como clase 4\n"
     ]
    }
   ],
   "source": [
    "import tensorflow as tf\n",
    "import numpy as np\n",
    "from tensorflow.keras.preprocessing import image\n",
    "\n",
    "# Cargar el modelo entrenado\n",
    "model = tf.keras.models.load_model('flower_classification_model.h5')\n",
    "\n",
    "# Función para predecir la clase de una imagen\n",
    "def predict_flower(img_path, target_size=(150, 150)):\n",
    "    img = image.load_img(img_path, target_size=target_size)\n",
    "    img_array = image.img_to_array(img)\n",
    "    img_array = np.expand_dims(img_array, axis=0)  # Añadir una dimensión para el lote\n",
    "    img_array /= 255.0  # Normalizar\n",
    "\n",
    "    # Hacer predicción\n",
    "    prediction = model.predict(img_array)\n",
    "    class_idx = np.argmax(prediction[0])  # Obtener la clase con mayor probabilidad\n",
    "    return class_idx\n",
    "\n",
    "# Prueba de inferencia\n",
    "img_path = 'test_image.jpg'  # Cambia esto a la ruta de una imagen de prueba\n",
    "class_idx = predict_flower(img_path)\n",
    "print(f\"La imagen se clasifica como clase {class_idx}\")\n"
   ]
  },
  {
   "cell_type": "code",
   "execution_count": null,
   "id": "9845b46d-d951-4e90-9785-124a2ebf5bf4",
   "metadata": {},
   "outputs": [],
   "source": []
  }
 ],
 "metadata": {
  "kernelspec": {
   "display_name": "Python 3 (ipykernel)",
   "language": "python",
   "name": "python3"
  },
  "language_info": {
   "codemirror_mode": {
    "name": "ipython",
    "version": 3
   },
   "file_extension": ".py",
   "mimetype": "text/x-python",
   "name": "python",
   "nbconvert_exporter": "python",
   "pygments_lexer": "ipython3",
   "version": "3.9.20"
  }
 },
 "nbformat": 4,
 "nbformat_minor": 5
}
