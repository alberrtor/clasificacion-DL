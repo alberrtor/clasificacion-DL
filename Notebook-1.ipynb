{
 "cells": [
  {
   "cell_type": "code",
   "execution_count": 2,
   "id": "653140f2-e672-44d2-9d02-ef79480b214d",
   "metadata": {},
   "outputs": [
    {
     "name": "stdout",
     "output_type": "stream",
     "text": [
      "Found 4317 images belonging to 5 classes.\n"
     ]
    }
   ],
   "source": [
    "import os\n",
    "import numpy as np\n",
    "from tensorflow.keras.preprocessing.image import ImageDataGenerator\n",
    "from sklearn.model_selection import train_test_split\n",
    "import pandas as pd\n",
    "\n",
    "def process_images(image_dir, target_size=(150, 150)):\n",
    "    # Generador de imágenes\n",
    "    datagen = ImageDataGenerator(rescale=1./255)\n",
    "    \n",
    "    # Cargar las imágenes\n",
    "    image_data = datagen.flow_from_directory(\n",
    "        image_dir,\n",
    "        target_size=target_size,\n",
    "        batch_size=32,\n",
    "        class_mode='categorical'\n",
    "    )\n",
    "    \n",
    "    # Dividir en características (X) y etiquetas (y)\n",
    "    X = []\n",
    "    y = []\n",
    "    for _ in range(image_data.samples // image_data.batch_size):\n",
    "        images, labels = next(image_data)\n",
    "        for image, label in zip(images, labels):\n",
    "            if image.shape == (150, 150, 3):  # Verificar que la imagen tenga las dimensiones correctas\n",
    "                X.append(image)\n",
    "                y.append(label)\n",
    "    \n",
    "    # Convertir a numpy arrays\n",
    "    X = np.array(X)\n",
    "    y = np.array(y)\n",
    "    \n",
    "    # Dividir en entrenamiento y prueba\n",
    "    X_train, X_test, y_train, y_test = train_test_split(X, y, test_size=0.2, random_state=42)\n",
    "    \n",
    "    # Guardar los datos procesados\n",
    "    np.save('X_train.npy', X_train)\n",
    "    np.save('X_test.npy', X_test)\n",
    "    np.save('y_train.npy', y_train)\n",
    "    np.save('y_test.npy', y_test)\n",
    "    \n",
    "    return X_train, X_test, y_train, y_test\n",
    "\n",
    "# Procesar las imágenes y guardar los datos\n",
    "image_dir = 'flowers'\n",
    "X_train, X_test, y_train, y_test = process_images(image_dir)"
   ]
  },
  {
   "cell_type": "code",
   "execution_count": null,
   "id": "b2f3e519-ebaa-4199-8156-0a4d9002896c",
   "metadata": {},
   "outputs": [],
   "source": []
  },
  {
   "cell_type": "code",
   "execution_count": null,
   "id": "224cbf4b-03de-490d-a147-3989f60c33d2",
   "metadata": {},
   "outputs": [],
   "source": []
  }
 ],
 "metadata": {
  "kernelspec": {
   "display_name": "Python 3 (ipykernel)",
   "language": "python",
   "name": "python3"
  },
  "language_info": {
   "codemirror_mode": {
    "name": "ipython",
    "version": 3
   },
   "file_extension": ".py",
   "mimetype": "text/x-python",
   "name": "python",
   "nbconvert_exporter": "python",
   "pygments_lexer": "ipython3",
   "version": "3.9.20"
  }
 },
 "nbformat": 4,
 "nbformat_minor": 5
}
